{
 "cells": [
  {
   "cell_type": "code",
   "execution_count": 1,
   "id": "b60ac675",
   "metadata": {},
   "outputs": [],
   "source": [
    "import pandas as pd\n",
    "from lifetimes import GammaGammaFitter\n",
    "\n",
    "df = pd.read_csv('Data_for_Modeling.csv')"
   ]
  },
  {
   "cell_type": "code",
   "execution_count": 2,
   "id": "f95dd5a8",
   "metadata": {},
   "outputs": [],
   "source": [
    "df= df[(df['frequency']>0) & (df['monetary_value']>0)]"
   ]
  },
  {
   "cell_type": "code",
   "execution_count": 3,
   "id": "1042c979",
   "metadata": {},
   "outputs": [
    {
     "data": {
      "text/plain": [
       "<lifetimes.GammaGammaFitter: fitted with 2773 subjects, p: 11.39, q: 0.86, v: 11.41>"
      ]
     },
     "execution_count": 3,
     "metadata": {},
     "output_type": "execute_result"
    }
   ],
   "source": [
    "ggf = GammaGammaFitter(penalizer_coef=0.001)\n",
    "ggf.fit(df['frequency'], df['monetary_value'])"
   ]
  },
  {
   "cell_type": "code",
   "execution_count": 4,
   "id": "b748faa3",
   "metadata": {},
   "outputs": [
    {
     "data": {
      "text/plain": [
       "0       602.846522\n",
       "1       266.381270\n",
       "2       183.820289\n",
       "3       277.324643\n",
       "4       541.307299\n",
       "           ...    \n",
       "2768    491.249520\n",
       "2769     82.715044\n",
       "2770     90.364789\n",
       "2771    149.568285\n",
       "2772    545.076983\n",
       "Length: 2773, dtype: float64"
      ]
     },
     "execution_count": 4,
     "metadata": {},
     "output_type": "execute_result"
    }
   ],
   "source": [
    "ggf.conditional_expected_average_profit(df['frequency'], df['monetary_value'])"
   ]
  },
  {
   "cell_type": "code",
   "execution_count": 5,
   "id": "471319d7",
   "metadata": {},
   "outputs": [
    {
     "data": {
      "text/plain": [
       "['ggf_model.joblib']"
      ]
     },
     "execution_count": 5,
     "metadata": {},
     "output_type": "execute_result"
    }
   ],
   "source": [
    "import joblib\n",
    "joblib.dump(ggf, 'ggf_model.joblib')"
   ]
  },
  {
   "cell_type": "code",
   "execution_count": null,
   "id": "0d552ba6",
   "metadata": {},
   "outputs": [],
   "source": []
  }
 ],
 "metadata": {
  "kernelspec": {
   "display_name": "Python 3",
   "language": "python",
   "name": "python3"
  },
  "language_info": {
   "codemirror_mode": {
    "name": "ipython",
    "version": 3
   },
   "file_extension": ".py",
   "mimetype": "text/x-python",
   "name": "python",
   "nbconvert_exporter": "python",
   "pygments_lexer": "ipython3",
   "version": "3.13.3"
  }
 },
 "nbformat": 4,
 "nbformat_minor": 5
}
